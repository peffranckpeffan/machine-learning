{
 "cells": [
  {
   "cell_type": "code",
   "execution_count": 30,
   "id": "actual-vegetable",
   "metadata": {},
   "outputs": [],
   "source": [
    "import numpy as np\n",
    "import pandas as pd\n",
    "import matplotlib.pyplot as plt\n",
    "from scipy.optimize import fmin_bfgs"
   ]
  },
  {
   "cell_type": "code",
   "execution_count": 145,
   "id": "formed-egyptian",
   "metadata": {},
   "outputs": [],
   "source": [
    "df = pd.read_csv('ex2data1.txt', names=['exam1', 'exam2', 'admitted'])"
   ]
  },
  {
   "cell_type": "code",
   "execution_count": 146,
   "id": "disturbed-cornell",
   "metadata": {},
   "outputs": [
    {
     "data": {
      "text/html": [
       "<div>\n",
       "<style scoped>\n",
       "    .dataframe tbody tr th:only-of-type {\n",
       "        vertical-align: middle;\n",
       "    }\n",
       "\n",
       "    .dataframe tbody tr th {\n",
       "        vertical-align: top;\n",
       "    }\n",
       "\n",
       "    .dataframe thead th {\n",
       "        text-align: right;\n",
       "    }\n",
       "</style>\n",
       "<table border=\"1\" class=\"dataframe\">\n",
       "  <thead>\n",
       "    <tr style=\"text-align: right;\">\n",
       "      <th></th>\n",
       "      <th>exam1</th>\n",
       "      <th>exam2</th>\n",
       "      <th>admitted</th>\n",
       "    </tr>\n",
       "  </thead>\n",
       "  <tbody>\n",
       "    <tr>\n",
       "      <th>0</th>\n",
       "      <td>34.623660</td>\n",
       "      <td>78.024693</td>\n",
       "      <td>0</td>\n",
       "    </tr>\n",
       "    <tr>\n",
       "      <th>1</th>\n",
       "      <td>30.286711</td>\n",
       "      <td>43.894998</td>\n",
       "      <td>0</td>\n",
       "    </tr>\n",
       "    <tr>\n",
       "      <th>2</th>\n",
       "      <td>35.847409</td>\n",
       "      <td>72.902198</td>\n",
       "      <td>0</td>\n",
       "    </tr>\n",
       "    <tr>\n",
       "      <th>3</th>\n",
       "      <td>60.182599</td>\n",
       "      <td>86.308552</td>\n",
       "      <td>1</td>\n",
       "    </tr>\n",
       "    <tr>\n",
       "      <th>4</th>\n",
       "      <td>79.032736</td>\n",
       "      <td>75.344376</td>\n",
       "      <td>1</td>\n",
       "    </tr>\n",
       "    <tr>\n",
       "      <th>...</th>\n",
       "      <td>...</td>\n",
       "      <td>...</td>\n",
       "      <td>...</td>\n",
       "    </tr>\n",
       "    <tr>\n",
       "      <th>95</th>\n",
       "      <td>83.489163</td>\n",
       "      <td>48.380286</td>\n",
       "      <td>1</td>\n",
       "    </tr>\n",
       "    <tr>\n",
       "      <th>96</th>\n",
       "      <td>42.261701</td>\n",
       "      <td>87.103851</td>\n",
       "      <td>1</td>\n",
       "    </tr>\n",
       "    <tr>\n",
       "      <th>97</th>\n",
       "      <td>99.315009</td>\n",
       "      <td>68.775409</td>\n",
       "      <td>1</td>\n",
       "    </tr>\n",
       "    <tr>\n",
       "      <th>98</th>\n",
       "      <td>55.340018</td>\n",
       "      <td>64.931938</td>\n",
       "      <td>1</td>\n",
       "    </tr>\n",
       "    <tr>\n",
       "      <th>99</th>\n",
       "      <td>74.775893</td>\n",
       "      <td>89.529813</td>\n",
       "      <td>1</td>\n",
       "    </tr>\n",
       "  </tbody>\n",
       "</table>\n",
       "<p>100 rows × 3 columns</p>\n",
       "</div>"
      ],
      "text/plain": [
       "        exam1      exam2  admitted\n",
       "0   34.623660  78.024693         0\n",
       "1   30.286711  43.894998         0\n",
       "2   35.847409  72.902198         0\n",
       "3   60.182599  86.308552         1\n",
       "4   79.032736  75.344376         1\n",
       "..        ...        ...       ...\n",
       "95  83.489163  48.380286         1\n",
       "96  42.261701  87.103851         1\n",
       "97  99.315009  68.775409         1\n",
       "98  55.340018  64.931938         1\n",
       "99  74.775893  89.529813         1\n",
       "\n",
       "[100 rows x 3 columns]"
      ]
     },
     "execution_count": 146,
     "metadata": {},
     "output_type": "execute_result"
    }
   ],
   "source": [
    "df"
   ]
  },
  {
   "cell_type": "code",
   "execution_count": 147,
   "id": "native-leave",
   "metadata": {
    "scrolled": true
   },
   "outputs": [
    {
     "data": {
      "text/plain": [
       "Text(0, 0.5, 'exam2 2 score')"
      ]
     },
     "execution_count": 147,
     "metadata": {},
     "output_type": "execute_result"
    },
    {
     "data": {
      "image/png": "[encoded data removed]",
      "text/plain": [
       "<Figure size 432x288 with 1 Axes>"
      ]
     },
     "metadata": {
      "needs_background": "light"
     },
     "output_type": "display_data"
    }
   ],
   "source": [
    "filter = df['admitted'] == 1\n",
    "\n",
    "admitted = df.loc[filter]\n",
    "not_admitted = df.loc[~filter]\n",
    "\n",
    "plt.plot(admitted['exam1'], admitted['exam2'], 'ro', not_admitted['exam1'], not_admitted['exam2'], 'g^')\n",
    "plt.xlabel('exam 1 score')\n",
    "plt.ylabel('exam2 2 score')"
   ]
  },
  {
   "cell_type": "code",
   "execution_count": 212,
   "id": "blind-aggregate",
   "metadata": {},
   "outputs": [
    {
     "name": "stdout",
     "output_type": "stream",
     "text": [
      "(100, 3)\n",
      "(100, 1)\n"
     ]
    }
   ],
   "source": [
    "data = df.to_numpy()\n",
    "# m -> number of examples, n -> number of features\n",
    "m, n = data.shape\n",
    "y = data[:,-1].reshape(m,1)\n",
    "x = data[:,:n-1].reshape(m, n-1)\n",
    "x = np.concatenate((np.ones((m,1)), x), axis=1)\n",
    "\n",
    "print(x.shape)\n",
    "print(y.shape)"
   ]
  },
  {
   "cell_type": "code",
   "execution_count": 208,
   "id": "confirmed-benjamin",
   "metadata": {},
   "outputs": [],
   "source": [
    "def sigmoid(z):\n",
    "    return 1/(1+np.exp(-z))\n",
    "\n",
    "def hypotesis(theta, x):\n",
    "    #force the shape of the numpy array to avoid errors by the function\n",
    "    #fmin_bfgs during matrix multiplication\n",
    "    return sigmoid(np.dot(x, theta).reshape(100,1))\n",
    "\n",
    "def cost(theta, x,y,m):\n",
    "    return (1/m)*(-np.dot(np.transpose(y),np.log(hypotesis(theta,x))) - np.dot(np.transpose((1-y)), np.log(1-hypotesis(theta,x))))[0]\n",
    "\n",
    "def grad(theta, x, y, m):\n",
    "    #force the shape of the numpy array to avoid errors by the function\n",
    "    #fmin_bfgs during matrix multiplication\n",
    "    return (alpha/m)*np.dot(np.transpose(x), np.subtract(hypotesis(theta,x),y)).reshape(3,)\n",
    "\n",
    "##############################################################\n",
    "#Manualy gradient descent too slow compared with the fmin_bfgs,#\n",
    "#shapes don't working properly because of the forced shapes#\n",
    "##############################################################\n",
    "# def gradient_descent(x, y, theta, iterations, alpha, m):\n",
    "#     J = np.zeros((iterations,1))\n",
    "#     for i in range(0, iterations):\n",
    "#         theta -= (alpha/m)*np.dot(np.transpose(x), np.subtract(hypotesis(x, theta),y))\n",
    "#         J[i] = cost(x,y, theta, m)\n",
    "#     return theta, J\n",
    "\n",
    "# gradient_descent(np.zeros((3,1)),x, y, 1500, 0.001, m)"
   ]
  },
  {
   "cell_type": "code",
   "execution_count": 214,
   "id": "lesbian-retrieval",
   "metadata": {},
   "outputs": [
    {
     "name": "stdout",
     "output_type": "stream",
     "text": [
      "Optimization terminated successfully.\n",
      "         Current function value: 0.203498\n",
      "         Iterations: 31\n",
      "         Function evaluations: 35\n",
      "         Gradient evaluations: 35\n"
     ]
    },
    {
     "data": {
      "text/plain": [
       "array([-25.15475481,   0.20616501,   0.20145502])"
      ]
     },
     "execution_count": 214,
     "metadata": {},
     "output_type": "execute_result"
    }
   ],
   "source": [
    "theta = np.zeros((n,1))\n",
    "fmin_bfgs(cost, theta, fprime=grad, args=(x,y,m))"
   ]
  }
 ],
 "metadata": {
  "kernelspec": {
   "display_name": "Python 3",
   "language": "python",
   "name": "python3"
  },
  "language_info": {
   "codemirror_mode": {
    "name": "ipython",
    "version": 3
   },
   "file_extension": ".py",
   "mimetype": "text/x-python",
   "name": "python",
   "nbconvert_exporter": "python",
   "pygments_lexer": "ipython3",
   "version": "3.8.5"
  }
 },
 "nbformat": 4,
 "nbformat_minor": 5
}
