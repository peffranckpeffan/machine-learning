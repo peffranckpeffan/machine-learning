{
 "cells": [
  {
   "cell_type": "code",
   "execution_count": 3,
   "id": "controlling-reconstruction",
   "metadata": {},
   "outputs": [],
   "source": [
    "import numpy as np\n",
    "import pandas as pd\n",
    "import matplotlib.pyplot as plt"
   ]
  },
  {
   "cell_type": "code",
   "execution_count": 6,
   "id": "generous-smith",
   "metadata": {},
   "outputs": [],
   "source": [
    "#Read data from the file\n",
    "df = pd.read_csv('ex1data2.txt', names=['size','bedrooms', 'price'])"
   ]
  },
  {
   "cell_type": "code",
   "execution_count": 15,
   "id": "neutral-jewel",
   "metadata": {},
   "outputs": [
    {
     "data": {
      "text/html": [
       "<div>\n",
       "<style scoped>\n",
       "    .dataframe tbody tr th:only-of-type {\n",
       "        vertical-align: middle;\n",
       "    }\n",
       "\n",
       "    .dataframe tbody tr th {\n",
       "        vertical-align: top;\n",
       "    }\n",
       "\n",
       "    .dataframe thead th {\n",
       "        text-align: right;\n",
       "    }\n",
       "</style>\n",
       "<table border=\"1\" class=\"dataframe\">\n",
       "  <thead>\n",
       "    <tr style=\"text-align: right;\">\n",
       "      <th></th>\n",
       "      <th>size</th>\n",
       "      <th>bedrooms</th>\n",
       "      <th>price</th>\n",
       "    </tr>\n",
       "  </thead>\n",
       "  <tbody>\n",
       "    <tr>\n",
       "      <th>0</th>\n",
       "      <td>2104</td>\n",
       "      <td>3</td>\n",
       "      <td>399900</td>\n",
       "    </tr>\n",
       "    <tr>\n",
       "      <th>1</th>\n",
       "      <td>1600</td>\n",
       "      <td>3</td>\n",
       "      <td>329900</td>\n",
       "    </tr>\n",
       "    <tr>\n",
       "      <th>2</th>\n",
       "      <td>2400</td>\n",
       "      <td>3</td>\n",
       "      <td>369000</td>\n",
       "    </tr>\n",
       "    <tr>\n",
       "      <th>3</th>\n",
       "      <td>1416</td>\n",
       "      <td>2</td>\n",
       "      <td>232000</td>\n",
       "    </tr>\n",
       "    <tr>\n",
       "      <th>4</th>\n",
       "      <td>3000</td>\n",
       "      <td>4</td>\n",
       "      <td>539900</td>\n",
       "    </tr>\n",
       "  </tbody>\n",
       "</table>\n",
       "</div>"
      ],
      "text/plain": [
       "   size  bedrooms   price\n",
       "0  2104         3  399900\n",
       "1  1600         3  329900\n",
       "2  2400         3  369000\n",
       "3  1416         2  232000\n",
       "4  3000         4  539900"
      ]
     },
     "execution_count": 15,
     "metadata": {},
     "output_type": "execute_result"
    }
   ],
   "source": [
    "df.head()"
   ]
  },
  {
   "cell_type": "code",
   "execution_count": 36,
   "id": "substantial-creek",
   "metadata": {
    "scrolled": true
   },
   "outputs": [
    {
     "data": {
      "text/html": [
       "<div>\n",
       "<style scoped>\n",
       "    .dataframe tbody tr th:only-of-type {\n",
       "        vertical-align: middle;\n",
       "    }\n",
       "\n",
       "    .dataframe tbody tr th {\n",
       "        vertical-align: top;\n",
       "    }\n",
       "\n",
       "    .dataframe thead th {\n",
       "        text-align: right;\n",
       "    }\n",
       "</style>\n",
       "<table border=\"1\" class=\"dataframe\">\n",
       "  <thead>\n",
       "    <tr style=\"text-align: right;\">\n",
       "      <th></th>\n",
       "      <th>size</th>\n",
       "      <th>bedrooms</th>\n",
       "      <th>price</th>\n",
       "    </tr>\n",
       "  </thead>\n",
       "  <tbody>\n",
       "    <tr>\n",
       "      <th>0</th>\n",
       "      <td>0.130010</td>\n",
       "      <td>-0.223675</td>\n",
       "      <td>399900</td>\n",
       "    </tr>\n",
       "    <tr>\n",
       "      <th>1</th>\n",
       "      <td>-0.504190</td>\n",
       "      <td>-0.223675</td>\n",
       "      <td>329900</td>\n",
       "    </tr>\n",
       "    <tr>\n",
       "      <th>2</th>\n",
       "      <td>0.502476</td>\n",
       "      <td>-0.223675</td>\n",
       "      <td>369000</td>\n",
       "    </tr>\n",
       "    <tr>\n",
       "      <th>3</th>\n",
       "      <td>-0.735723</td>\n",
       "      <td>-1.537767</td>\n",
       "      <td>232000</td>\n",
       "    </tr>\n",
       "    <tr>\n",
       "      <th>4</th>\n",
       "      <td>1.257476</td>\n",
       "      <td>1.090417</td>\n",
       "      <td>539900</td>\n",
       "    </tr>\n",
       "  </tbody>\n",
       "</table>\n",
       "</div>"
      ],
      "text/plain": [
       "       size  bedrooms   price\n",
       "0  0.130010 -0.223675  399900\n",
       "1 -0.504190 -0.223675  329900\n",
       "2  0.502476 -0.223675  369000\n",
       "3 -0.735723 -1.537767  232000\n",
       "4  1.257476  1.090417  539900"
      ]
     },
     "execution_count": 36,
     "metadata": {},
     "output_type": "execute_result"
    }
   ],
   "source": [
    "#Apply feature scalling to the data\n",
    "df.iloc[:,:-1] = df.iloc[:,:-1].apply(feature_scaling)\n",
    "df.head()"
   ]
  },
  {
   "cell_type": "code",
   "execution_count": 26,
   "id": "finite-silver",
   "metadata": {},
   "outputs": [],
   "source": [
    "def feature_scaling(value):\n",
    "    return (value - value.mean())/value.std()"
   ]
  },
  {
   "cell_type": "code",
   "execution_count": 32,
   "id": "grateful-newman",
   "metadata": {},
   "outputs": [],
   "source": [
    "#Calculate the Hypotesis\n",
    "def h(x, theta):\n",
    "    return np.dot(x, np.transpose(theta))"
   ]
  },
  {
   "cell_type": "code",
   "execution_count": 33,
   "id": "otherwise-learning",
   "metadata": {},
   "outputs": [],
   "source": [
    "#Calculate the Cost of the learning parameters\n",
    "def cost(x, y, theta, m):\n",
    "    C = 1/(2*m)\n",
    "    operation = np.subtract(h(x, theta),y)\n",
    "    return C*np.dot(np.transpose(operation), operation)"
   ]
  },
  {
   "cell_type": "code",
   "execution_count": 41,
   "id": "center-accessory",
   "metadata": {},
   "outputs": [],
   "source": [
    "#CONSTANTS\n",
    "#Learning Rate\n",
    "alpha = 0.01\n",
    "#Number of interations of gradient descent\n",
    "interations = 1500"
   ]
  },
  {
   "cell_type": "code",
   "execution_count": 38,
   "id": "commercial-settle",
   "metadata": {},
   "outputs": [],
   "source": [
    "#Convert data of dataframe to numpy array\n",
    "data = df.to_numpy()\n",
    "num_row, num_coll = data.shape\n",
    "x = data[:,:num_coll-1]\n",
    "y = data[:,-1].reshape(num_row, 1)\n",
    "#Add ones to the first collum of x to apply matrix mutiplication\n",
    "x = np.concatenate((np.ones((num_row,1)),x ), axis=1)"
   ]
  },
  {
   "cell_type": "code",
   "execution_count": 42,
   "id": "ignored-insight",
   "metadata": {},
   "outputs": [],
   "source": [
    "#Array of costs\n",
    "J = np.zeros((interations,1))"
   ]
  },
  {
   "cell_type": "code",
   "execution_count": 44,
   "id": "varying-toolbox",
   "metadata": {},
   "outputs": [],
   "source": [
    "#Calculate the Gradient Descent\n",
    "#Learning Parameters\n",
    "theta = np.zeros((1,3))\n",
    "for i in range(0, interations):\n",
    "    theta -= (alpha/num_row)*np.dot(np.transpose(np.subtract(h(x, theta), y)), x )\n",
    "    J[i] = cost(x, y, theta, num_row)"
   ]
  },
  {
   "cell_type": "code",
   "execution_count": 46,
   "id": "scenic-short",
   "metadata": {},
   "outputs": [
    {
     "data": {
      "text/plain": [
       "[<matplotlib.lines.Line2D at 0x7f5964d89ee0>]"
      ]
     },
     "execution_count": 46,
     "metadata": {},
     "output_type": "execute_result"
    },
    {
     "data": {
      "image/png": "[encoded data removed]",
      "text/plain": [
       "<Figure size 432x288 with 1 Axes>"
      ]
     },
     "metadata": {
      "needs_background": "light"
     },
     "output_type": "display_data"
    }
   ],
   "source": [
    "plt.plot(np.arange(0,interations),J)"
   ]
  },
  {
   "cell_type": "code",
   "execution_count": 47,
   "id": "dietary-lighting",
   "metadata": {},
   "outputs": [
    {
     "data": {
      "text/plain": [
       "array([[340412.56301439, 110540.56654627,  -6558.99054811]])"
      ]
     },
     "execution_count": 47,
     "metadata": {},
     "output_type": "execute_result"
    }
   ],
   "source": [
    "theta"
   ]
  }
 ],
 "metadata": {
  "kernelspec": {
   "display_name": "Python 3",
   "language": "python",
   "name": "python3"
  },
  "language_info": {
   "codemirror_mode": {
    "name": "ipython",
    "version": 3
   },
   "file_extension": ".py",
   "mimetype": "text/x-python",
   "name": "python",
   "nbconvert_exporter": "python",
   "pygments_lexer": "ipython3",
   "version": "3.8.5"
  }
 },
 "nbformat": 4,
 "nbformat_minor": 5
}
