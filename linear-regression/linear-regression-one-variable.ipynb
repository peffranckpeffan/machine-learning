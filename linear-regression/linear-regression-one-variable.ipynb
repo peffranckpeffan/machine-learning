{
 "cells": [
  {
   "cell_type": "code",
   "execution_count": 1,
   "id": "becoming-carroll",
   "metadata": {},
   "outputs": [],
   "source": [
    "import numpy as np\n",
    "import pandas as pd\n",
    "import matplotlib.pyplot as plt"
   ]
  },
  {
   "cell_type": "code",
   "execution_count": 2,
   "id": "muslim-delivery",
   "metadata": {},
   "outputs": [],
   "source": [
    "#Read data from the file\n",
    "df = pd.read_csv('ex1data1.txt', names=['population', 'profit'])"
   ]
  },
  {
   "cell_type": "code",
   "execution_count": 3,
   "id": "studied-concept",
   "metadata": {},
   "outputs": [
    {
     "data": {
      "text/html": [
       "<div>\n",
       "<style scoped>\n",
       "    .dataframe tbody tr th:only-of-type {\n",
       "        vertical-align: middle;\n",
       "    }\n",
       "\n",
       "    .dataframe tbody tr th {\n",
       "        vertical-align: top;\n",
       "    }\n",
       "\n",
       "    .dataframe thead th {\n",
       "        text-align: right;\n",
       "    }\n",
       "</style>\n",
       "<table border=\"1\" class=\"dataframe\">\n",
       "  <thead>\n",
       "    <tr style=\"text-align: right;\">\n",
       "      <th></th>\n",
       "      <th>population</th>\n",
       "      <th>profit</th>\n",
       "    </tr>\n",
       "  </thead>\n",
       "  <tbody>\n",
       "    <tr>\n",
       "      <th>0</th>\n",
       "      <td>6.1101</td>\n",
       "      <td>17.59200</td>\n",
       "    </tr>\n",
       "    <tr>\n",
       "      <th>1</th>\n",
       "      <td>5.5277</td>\n",
       "      <td>9.13020</td>\n",
       "    </tr>\n",
       "    <tr>\n",
       "      <th>2</th>\n",
       "      <td>8.5186</td>\n",
       "      <td>13.66200</td>\n",
       "    </tr>\n",
       "    <tr>\n",
       "      <th>3</th>\n",
       "      <td>7.0032</td>\n",
       "      <td>11.85400</td>\n",
       "    </tr>\n",
       "    <tr>\n",
       "      <th>4</th>\n",
       "      <td>5.8598</td>\n",
       "      <td>6.82330</td>\n",
       "    </tr>\n",
       "    <tr>\n",
       "      <th>...</th>\n",
       "      <td>...</td>\n",
       "      <td>...</td>\n",
       "    </tr>\n",
       "    <tr>\n",
       "      <th>92</th>\n",
       "      <td>5.8707</td>\n",
       "      <td>7.20290</td>\n",
       "    </tr>\n",
       "    <tr>\n",
       "      <th>93</th>\n",
       "      <td>5.3054</td>\n",
       "      <td>1.98690</td>\n",
       "    </tr>\n",
       "    <tr>\n",
       "      <th>94</th>\n",
       "      <td>8.2934</td>\n",
       "      <td>0.14454</td>\n",
       "    </tr>\n",
       "    <tr>\n",
       "      <th>95</th>\n",
       "      <td>13.3940</td>\n",
       "      <td>9.05510</td>\n",
       "    </tr>\n",
       "    <tr>\n",
       "      <th>96</th>\n",
       "      <td>5.4369</td>\n",
       "      <td>0.61705</td>\n",
       "    </tr>\n",
       "  </tbody>\n",
       "</table>\n",
       "<p>97 rows × 2 columns</p>\n",
       "</div>"
      ],
      "text/plain": [
       "    population    profit\n",
       "0       6.1101  17.59200\n",
       "1       5.5277   9.13020\n",
       "2       8.5186  13.66200\n",
       "3       7.0032  11.85400\n",
       "4       5.8598   6.82330\n",
       "..         ...       ...\n",
       "92      5.8707   7.20290\n",
       "93      5.3054   1.98690\n",
       "94      8.2934   0.14454\n",
       "95     13.3940   9.05510\n",
       "96      5.4369   0.61705\n",
       "\n",
       "[97 rows x 2 columns]"
      ]
     },
     "execution_count": 3,
     "metadata": {},
     "output_type": "execute_result"
    }
   ],
   "source": [
    "df"
   ]
  },
  {
   "cell_type": "code",
   "execution_count": 78,
   "id": "northern-bunch",
   "metadata": {},
   "outputs": [
    {
     "data": {
      "text/plain": [
       "[<matplotlib.lines.Line2D at 0x7f217d78a0a0>]"
      ]
     },
     "execution_count": 78,
     "metadata": {},
     "output_type": "execute_result"
    },
    {
     "data": {
      "image/png": "[encoded data removed]",
      "text/plain": [
       "<Figure size 432x288 with 1 Axes>"
      ]
     },
     "metadata": {
      "needs_background": "light"
     },
     "output_type": "display_data"
    }
   ],
   "source": [
    "#Plot the data for visualization\n",
    "plt.plot(df['population'], df['profit'], 'ro')"
   ]
  },
  {
   "cell_type": "code",
   "execution_count": 5,
   "id": "altered-domestic",
   "metadata": {},
   "outputs": [],
   "source": [
    "#CONSTANTS\n",
    "#Learning Rate\n",
    "alpha = 0.01\n",
    "#Number of interations of gradient descent\n",
    "interations = 1500"
   ]
  },
  {
   "cell_type": "code",
   "execution_count": 6,
   "id": "tight-double",
   "metadata": {},
   "outputs": [],
   "source": [
    "#Convert data of dataframe to numpy array\n",
    "data = df.to_numpy()\n",
    "num_row, num_coll = data.shape\n",
    "x = data[:,:num_coll-1]\n",
    "y = data[:,-1].reshape(num_row, 1)\n",
    "#Add ones to the first collum of x to apply matrix mutiplication\n",
    "x = np.concatenate((np.ones((num_row,1)),x ), axis=1)"
   ]
  },
  {
   "cell_type": "code",
   "execution_count": 7,
   "id": "educational-egypt",
   "metadata": {},
   "outputs": [],
   "source": [
    "#Calculate the Hypotesis\n",
    "def h(x, theta):\n",
    "    return np.dot(x, np.transpose(theta))"
   ]
  },
  {
   "cell_type": "code",
   "execution_count": 8,
   "id": "ambient-logan",
   "metadata": {},
   "outputs": [],
   "source": [
    "#Calculate the Cost of the learning parameters\n",
    "def cost(x, y, theta, m):\n",
    "    C = 1/(2*m)\n",
    "    operation = np.subtract(h(x, theta),y)\n",
    "    return C*np.dot(np.transpose(operation), operation)"
   ]
  },
  {
   "cell_type": "code",
   "execution_count": 25,
   "id": "nearby-durham",
   "metadata": {},
   "outputs": [
    {
     "name": "stdout",
     "output_type": "stream",
     "text": [
      "(1500, 1)\n"
     ]
    }
   ],
   "source": [
    "#Array of costs\n",
    "J = np.zeros((interations,1))"
   ]
  },
  {
   "cell_type": "code",
   "execution_count": 39,
   "id": "accomplished-postcard",
   "metadata": {},
   "outputs": [],
   "source": [
    "#Calculate the Gradient Descent\n",
    "#Learning Parameters\n",
    "theta = np.zeros((1,2))\n",
    "for i in range(0, interations):\n",
    "    theta -= (alpha/num_row)*np.dot(np.transpose(np.subtract(h(x, theta), y)), x )\n",
    "    J[i] = cost(x, y, theta, num_row)"
   ]
  },
  {
   "cell_type": "code",
   "execution_count": 83,
   "id": "complimentary-construction",
   "metadata": {},
   "outputs": [
    {
     "data": {
      "image/png": "[encoded data removed]",
      "text/plain": [
       "<Figure size 432x288 with 1 Axes>"
      ]
     },
     "metadata": {
      "needs_background": "light"
     },
     "output_type": "display_data"
    }
   ],
   "source": [
    "#PLot the result\n",
    "plt.plot(df['population'], df['profit'], 'ro')\n",
    "plt.plot(df['population'], np.dot(x, np.transpose(theta)))\n",
    "plt.show()"
   ]
  }
 ],
 "metadata": {
  "kernelspec": {
   "display_name": "Python 3",
   "language": "python",
   "name": "python3"
  },
  "language_info": {
   "codemirror_mode": {
    "name": "ipython",
    "version": 3
   },
   "file_extension": ".py",
   "mimetype": "text/x-python",
   "name": "python",
   "nbconvert_exporter": "python",
   "pygments_lexer": "ipython3",
   "version": "3.8.5"
  }
 },
 "nbformat": 4,
 "nbformat_minor": 5
}
